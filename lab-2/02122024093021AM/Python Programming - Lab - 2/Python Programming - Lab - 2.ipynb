{
 "cells": [
  {
   "cell_type": "markdown",
   "metadata": {},
   "source": [
    "\n",
    "<a href='https://www.darshan.ac.in/'> <img src='https://www.darshan.ac.in/Content/media/DU_Logo.svg' width=\"250\" height=\"300\"/></a>\n",
    "<pre>\n",
    "<center><b><h1>Python Programming - 2301CS404</b></center>\n",
    "<center><b><h1>Lab - 2</b></center>    \n",
    "<pre>"
   ]
  },
  {
   "cell_type": "markdown",
   "metadata": {},
   "source": [
    "# if..else.."
   ]
  },
  {
   "cell_type": "markdown",
   "metadata": {},
   "source": [
    "### 01) WAP to check whether the given number is positive or negative."
   ]
  },
  {
   "cell_type": "code",
   "execution_count": 1,
   "metadata": {},
   "outputs": [
    {
     "name": "stdout",
     "output_type": "stream",
     "text": [
      "enter the number -3\n",
      "number is negative\n"
     ]
    }
   ],
   "source": [
    "num= int(input(\"enter the number \"))\n",
    "if num<0:\n",
    "    print(\"number is negative\")\n",
    "else :\n",
    "    print(\"number is positive\")"
   ]
  },
  {
   "cell_type": "markdown",
   "metadata": {},
   "source": [
    "\n",
    "### 02) WAP to check whether the given number is odd or even."
   ]
  },
  {
   "cell_type": "code",
   "execution_count": 2,
   "metadata": {},
   "outputs": [
    {
     "name": "stdout",
     "output_type": "stream",
     "text": [
      "enter the number 3\n",
      "number is odd\n"
     ]
    }
   ],
   "source": [
    "num= int(input(\"enter the number \"))\n",
    "if num%2==0:\n",
    "    print(\"number is even\")\n",
    "else :\n",
    "    print(\"number is odd\")"
   ]
  },
  {
   "cell_type": "markdown",
   "metadata": {},
   "source": [
    "### 03) WAP to find out largest number from given two numbers using simple if and ternary operator."
   ]
  },
  {
   "cell_type": "code",
   "execution_count": 4,
   "metadata": {},
   "outputs": [
    {
     "name": "stdout",
     "output_type": "stream",
     "text": [
      "enter the first number 2\n",
      "enter the second number3\n",
      "number 3  is greater\n"
     ]
    }
   ],
   "source": [
    "num1= int(input(\"enter the first number \"))\n",
    "num2= int(input(\"enter the second number\"))\n",
    "print(\"number\",num1,\" is greater\")if num1>num2 else print(\"number\",num2,\" is greater\")"
   ]
  },
  {
   "cell_type": "markdown",
   "metadata": {},
   "source": [
    "### 04) WAP to find out largest number from given three numbers."
   ]
  },
  {
   "cell_type": "code",
   "execution_count": 5,
   "metadata": {},
   "outputs": [
    {
     "name": "stdout",
     "output_type": "stream",
     "text": [
      "enter the first number 1\n",
      "enter the second number2\n",
      "enter the third number3\n",
      "number 3  is greater\n"
     ]
    }
   ],
   "source": [
    "num1= int(input(\"enter the first number \"))\n",
    "num2= int(input(\"enter the second number\"))\n",
    "num3= int(input(\"enter the third number\"))\n",
    "if num1>num2:\n",
    "    \n",
    "    if num1>num3:\n",
    "        print(\"number\",num1,\" is greater\")\n",
    "    else:\n",
    "        print(\"number\",num3,\" is greater\")\n",
    "else:\n",
    "    if num2>num3:\n",
    "        print(\"number\",num2,\" is greater\")\n",
    "    else:\n",
    "        print(\"number\",num3,\" is greater\")"
   ]
  },
  {
   "cell_type": "markdown",
   "metadata": {},
   "source": [
    "### 05) WAP to check whether the given year is leap year or not.\n",
    "[If a year can be divisible by 4 but not divisible by 100 then it is leap year but if it is divisible by 400 then it is leap year]"
   ]
  },
  {
   "cell_type": "code",
   "execution_count": 14,
   "metadata": {},
   "outputs": [
    {
     "name": "stdout",
     "output_type": "stream",
     "text": [
      "enter the year 2000\n",
      "2000  is a leap year\n"
     ]
    }
   ],
   "source": [
    "year= int(input(\"enter the year \"))\n",
    "if year%4==0 and year%100!=0  or  year%400==0:\n",
    "    print(year,\" is a leap year\")\n",
    "else :\n",
    "    print(year,\" is not a leap year\")"
   ]
  },
  {
   "cell_type": "markdown",
   "metadata": {},
   "source": [
    "### 06) WAP in python to display the name of the day according to the number given by the user."
   ]
  },
  {
   "cell_type": "code",
   "execution_count": 15,
   "metadata": {},
   "outputs": [
    {
     "name": "stdout",
     "output_type": "stream",
     "text": [
      "enter the number 78\n",
      "That's not a valid day of the week.\n"
     ]
    }
   ],
   "source": [
    "num1= int(input(\"enter the number \"))\n",
    "match num1:\n",
    "    case 1:\n",
    "        print(num1,\" is a sunday\")\n",
    "    case 2:\n",
    "        print(num1,\" is a monday\")\n",
    "    case 3:\n",
    "        print(num1,\" is a tuesday\")\n",
    "    case 4:\n",
    "        print(num1,\" is a wednesday\")\n",
    "    case 5:\n",
    "        print(num1,\" is a thursday\")\n",
    "    case 6:\n",
    "        print(num1,\" is a friday\")\n",
    "    case 7:\n",
    "        print(num1,\" is a saturday\")\n",
    "    case _:\n",
    "        print(\"That's not a valid day of the week.\")"
   ]
  },
  {
   "cell_type": "markdown",
   "metadata": {},
   "source": [
    "### 07) WAP to implement simple calculator which performs (add,sub,mul,div) of two no. based on user input."
   ]
  },
  {
   "cell_type": "code",
   "execution_count": 18,
   "metadata": {},
   "outputs": [
    {
     "name": "stdout",
     "output_type": "stream",
     "text": [
      "enter the first number 4\n",
      "enter the second number 2\n",
      "enter the sign which function you need to operate-\n",
      "Ans is 2\n"
     ]
    }
   ],
   "source": [
    "num1=int(input(\"enter the first number \"))\n",
    "num2=int(input(\"enter the second number \"))\n",
    "signs=input(\"enter the sign which function you need to operate \")\n",
    "match signs:\n",
    "    case \"+\":\n",
    "        print(\"Ans is\",num1+num2)\n",
    "    case \"-\":\n",
    "       print(\"Ans is\",num1-num2)\n",
    "    case \"*\":\n",
    "        print(\"Ans is\",num1*num2)\n",
    "    case \"/\":\n",
    "        print(\"Ans is\",num1/num2)"
   ]
  },
  {
   "cell_type": "markdown",
   "metadata": {},
   "source": [
    "### 08) WAP to read marks of five subjects. Calculate percentage and print class accordingly. \n",
    "Fail below 35 </br>\n",
    "Pass Class between 35 to 45 </br>\n",
    "Second Class</br>\n",
    "between 45 to 60</br>\n",
    "First Class between 60 to 70</br> \n",
    "Distinction if more than 70"
   ]
  },
  {
   "cell_type": "code",
   "execution_count": 23,
   "metadata": {},
   "outputs": [
    {
     "name": "stdout",
     "output_type": "stream",
     "text": [
      "enter the marks in subj-1 98\n",
      "enter the marks in subj-2 99\n",
      "enter the marks in subj-3 91\n",
      "enter the marks in subj-4 95\n",
      "enter the marks in subj-5 96\n",
      "your percentage is  95.8\n",
      "thus you are having distinction\n"
     ]
    }
   ],
   "source": [
    "num1=int(input(\"enter the marks in subj-1 \"))\n",
    "num2=int(input(\"enter the marks in subj-2 \"))\n",
    "num3=int(input(\"enter the marks in subj-3 \"))\n",
    "num4=int(input(\"enter the marks in subj-4 \"))\n",
    "num5=int(input(\"enter the marks in subj-5 \"))\n",
    "sum=num1+num2+num3+num4+num5\n",
    "percentage = (sum/5)\n",
    "print(\"your percentage is \",percentage);\n",
    "if percentage<35:\n",
    "    print(\"thus you are fail\")\n",
    "elif percentage<45:\n",
    "    print(\"thus you are having a pass class\")\n",
    "elif percentage<60:\n",
    "    print(\"thus you are having second class\")\n",
    "elif percentage<70:\n",
    "    print(\"thus you are having first class\")\n",
    "else :\n",
    "    print(\"thus you are having distinction\")"
   ]
  },
  {
   "cell_type": "markdown",
   "metadata": {},
   "source": [
    "### 09) Three sides of a triangle are entered through the keyboard, WAP to check whether the triangle is isosceles, equilateral, scalene or right-angled triangle."
   ]
  },
  {
   "cell_type": "code",
   "execution_count": 28,
   "metadata": {},
   "outputs": [
    {
     "name": "stdout",
     "output_type": "stream",
     "text": [
      "enter the first side 3\n",
      "enter the second side 3\n",
      "enter the third side 9\n",
      "thus the given triangle is isosceles\n"
     ]
    }
   ],
   "source": [
    "side1= int(input(\"enter the first side \"))\n",
    "side2= int(input(\"enter the second side \"))\n",
    "side3= int(input(\"enter the third side \"))\n",
    "if side1==side2 or side1==side3 or side1==side3:\n",
    "    print(\"thus the given triangle is isosceles\")\n",
    "elif side1==side2==side3:\n",
    "    print(\"thus the given triangle is equilateral\")\n",
    "elif side1**2==side2**2+side3**2 or side2**2==side1**2+side3**2 or side3**2==side2**2+side1**2:\n",
    "    print(\"thus the given triangle is right angled triangle\")\n",
    "else:\n",
    "    print(\"thus the triangle is scalene\")"
   ]
  },
  {
   "cell_type": "markdown",
   "metadata": {},
   "source": [
    "### 10) WAP to find the second largest number among three user input numbers."
   ]
  },
  {
   "cell_type": "code",
   "execution_count": 7,
   "metadata": {},
   "outputs": [
    {
     "name": "stdin",
     "output_type": "stream",
     "text": [
      "enter the first number  2\n",
      "enter the second number 3\n",
      "enter the third number 4\n"
     ]
    },
    {
     "name": "stdout",
     "output_type": "stream",
     "text": [
      "number 3  is second largest\n"
     ]
    }
   ],
   "source": [
    "num1= int(input(\"enter the first number \"))\n",
    "num2= int(input(\"enter the second number\"))\n",
    "num3= int(input(\"enter the third number\"))\n",
    "if num1>num2:\n",
    "    if num1>num3:\n",
    "             print(\"number\",num3,\" is second Largest\") if num3>num2 else print(\"number\",num2,\" is second largest\")\n",
    "    else:\n",
    "        print(\"number\",num1,\"is second largest\")    \n",
    "elif num2>num3:\n",
    "    if num1>num3:\n",
    "            print(\"number\",num1,\" is second Largest\")\n",
    "    else:\n",
    "        print(\"number\",num3,\" is second Largest\")\n",
    "else:\n",
    "    if num3>num1:\n",
    "        print(\"number\",num2,\" is second largest\")\n",
    "    else:\n",
    "        print(\"number\",num1,\"is second largest\") "
   ]
  },
  {
   "cell_type": "markdown",
   "metadata": {},
   "source": [
    "### 11) WAP to calculate electricity bill based on following criteria. Which takes the unit from the user.\n",
    "a. First 1 to 50 units – Rs. 2.60/unit</br>\n",
    "b. Next 50 to 100 units – Rs. 3.25/unit</br>\n",
    "c. Next 100 to 200 units – Rs. 5.26/unit</br>\n",
    "d. above 200 units – Rs. 8.45/unit"
   ]
  },
  {
   "cell_type": "code",
   "execution_count": 9,
   "metadata": {},
   "outputs": [
    {
     "name": "stdin",
     "output_type": "stream",
     "text": [
      "enter your units  40\n"
     ]
    },
    {
     "name": "stdout",
     "output_type": "stream",
     "text": [
      "the bill is 2000\n"
     ]
    }
   ],
   "source": [
    "units= int(input(\"enter your units \"))\n",
    "if units<=50:\n",
    "    print(\"the bill is\",units*50)\n",
    "elif units<=100:\n",
    "    print(\"the is bill is\",(units*50+(units-50)*3.25))\n",
    "elif units<=200:\n",
    "    print(\"the is bill is\",(units*50+(units-50)*3.25)+(units-100)*5.26)\n",
    "else:\n",
    "    print(\"the is bill is\",(units*50+(units-50)*3.25)+(units-100)*5.26+(units-200)*8.45)"
   ]
  }
 ],
 "metadata": {
  "kernelspec": {
   "display_name": "Python 3 (ipykernel)",
   "language": "python",
   "name": "python3"
  },
  "language_info": {
   "codemirror_mode": {
    "name": "ipython",
    "version": 3
   },
   "file_extension": ".py",
   "mimetype": "text/x-python",
   "name": "python",
   "nbconvert_exporter": "python",
   "pygments_lexer": "ipython3",
   "version": "3.12.7"
  }
 },
 "nbformat": 4,
 "nbformat_minor": 4
}
