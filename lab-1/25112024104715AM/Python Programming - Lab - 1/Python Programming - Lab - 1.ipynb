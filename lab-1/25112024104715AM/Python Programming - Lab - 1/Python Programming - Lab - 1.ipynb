{
 "cells": [
  {
   "cell_type": "markdown",
   "metadata": {},
   "source": [
    "<a href='https://www.darshan.ac.in/'> <img src='https://www.darshan.ac.in/Content/media/DU_Logo.svg' width=\"250\" height=\"10\"/></a>\n",
    "<pre>\n",
    "<center><b><h1>Python Programming - 2301CS404</b></center>\n",
    "<center><b><h1>Lab - 1</b></center>    \n",
    "<pre>"
   ]
  },
  {
   "cell_type": "markdown",
   "metadata": {},
   "source": [
    "### 01) WAP to print “Hello World”"
   ]
  },
  {
   "cell_type": "code",
   "execution_count": 1,
   "metadata": {},
   "outputs": [
    {
     "name": "stdout",
     "output_type": "stream",
     "text": [
      "Hello world\n"
     ]
    },
    {
     "data": {
      "text/plain": [
       "[None]"
      ]
     },
     "execution_count": 1,
     "metadata": {},
     "output_type": "execute_result"
    }
   ],
   "source": [
    "[print(\"Hello world\")]\n",
    "#shortform to run\n",
    "#shift +enter"
   ]
  },
  {
   "cell_type": "markdown",
   "metadata": {},
   "source": [
    "### 02) WAP to print addition of two numbers with and without using input()."
   ]
  },
  {
   "cell_type": "code",
   "execution_count": 7,
   "metadata": {},
   "outputs": [
    {
     "name": "stdout",
     "output_type": "stream",
     "text": [
      "addition without input\n",
      "Addition of two number 8\n",
      "addition with input\n",
      "enter an number 12\n",
      "enter another number 24\n",
      "Addition of your two number is 36\n"
     ]
    }
   ],
   "source": [
    "print(\"addition without input\")\n",
    "a=5\n",
    "b=3\n",
    "# c=a+b\n",
    "print(\"Addition of two number\",a+b)\n",
    "print(\"addition with input\")\n",
    "a=int(input(\"enter an number \"))\n",
    "b=int(input(\"enter another number \"))\n",
    "c=a+b\n",
    "print(\"Addition of your two number is\",c)\n",
    "# andar tamare variable declare karvo hoi to f thi start apvani like print(f\"addition of two number {a}+{b} is\")"
   ]
  },
  {
   "cell_type": "markdown",
   "metadata": {},
   "source": [
    "### 03) WAP to check the type of the variable."
   ]
  },
  {
   "cell_type": "code",
   "execution_count": 9,
   "metadata": {},
   "outputs": [
    {
     "name": "stdout",
     "output_type": "stream",
     "text": [
      "enter a number45\n",
      "<class 'str'>\n"
     ]
    }
   ],
   "source": [
    "a=input(\"enter a number\")\n",
    "print(type(a))\n",
    "# input by default string le che"
   ]
  },
  {
   "cell_type": "markdown",
   "metadata": {},
   "source": [
    "### 04) WAP to calculate simple interest."
   ]
  },
  {
   "cell_type": "code",
   "execution_count": 12,
   "metadata": {},
   "outputs": [
    {
     "name": "stdout",
     "output_type": "stream",
     "text": [
      "enter the principle 2\n",
      "enter the rate 3\n",
      "enter the time 4\n",
      "simple interest of \n",
      " p:2\n",
      " r:3\n",
      " t:4 is: 0.24\n"
     ]
    }
   ],
   "source": [
    "p=int(input(\"enter the principle \"))\n",
    "r=int(input(\"enter the rate \"))\n",
    "t=int(input(\"enter the time \"))\n",
    "print(f\"simple interest of \\n p:{p}\\n r:{r}\\n t:{t} \\nis:\",(p*r*t)/100)"
   ]
  },
  {
   "cell_type": "markdown",
   "metadata": {},
   "source": [
    "### 05) WAP to calculate area and perimeter of a circle."
   ]
  },
  {
   "cell_type": "code",
   "execution_count": 17,
   "metadata": {},
   "outputs": [
    {
     "name": "stdout",
     "output_type": "stream",
     "text": [
      "enter the radius 3\n",
      "Area of circle for radius 3.0 is 28.259999999999998\n",
      "Perimeter of the circle for radius 3.0 is 18.84\n"
     ]
    }
   ],
   "source": [
    "r=float(input(\"enter the radius \"))\n",
    "pie=3.14\n",
    "print(f\"Area of circle for radius {r} is\",pie*r*r)\n",
    "print(f\"Perimeter of the circle for radius {r} is\",2*pie*r)"
   ]
  },
  {
   "cell_type": "markdown",
   "metadata": {},
   "source": [
    "# 06) WAP to calculate area of a triangle."
   ]
  },
  {
   "cell_type": "code",
   "execution_count": 18,
   "metadata": {},
   "outputs": [
    {
     "name": "stdout",
     "output_type": "stream",
     "text": [
      "enter the height 2\n",
      "enter the base 3\n",
      "Area of triangle for height 2 base 3 is 3.0\n"
     ]
    }
   ],
   "source": [
    "h=int(input(\"enter the height \"))\n",
    "b=int(input(\"enter the base \"))\n",
    "print(f\"Area of triangle for height {h} base {b} is\",1/2*b*h)"
   ]
  },
  {
   "cell_type": "markdown",
   "metadata": {},
   "source": [
    "### 07) WAP to compute quotient and remainder."
   ]
  },
  {
   "cell_type": "code",
   "execution_count": 1,
   "metadata": {},
   "outputs": [
    {
     "name": "stdin",
     "output_type": "stream",
     "text": [
      "enter the divisior  3\n",
      "enter the dividend  9\n"
     ]
    },
    {
     "name": "stdout",
     "output_type": "stream",
     "text": [
      "the quotient is  3.0\n",
      "the remainder is  0\n"
     ]
    }
   ],
   "source": [
    "h=int(input(\"enter the divisior \"))\n",
    "b=int(input(\"enter the dividend \"))\n",
    "print(\"the quotient is \",b/h)\n",
    "print(\"the remainder is \",b%h)"
   ]
  },
  {
   "cell_type": "markdown",
   "metadata": {},
   "source": [
    "### 08) WAP to convert degree into Fahrenheit and vice versa."
   ]
  },
  {
   "cell_type": "code",
   "execution_count": 11,
   "metadata": {},
   "outputs": [
    {
     "name": "stdin",
     "output_type": "stream",
     "text": [
      "enter the temperature  1\n",
      "enter the temp unit  c\n"
     ]
    },
    {
     "name": "stdout",
     "output_type": "stream",
     "text": [
      "the temperature in fahrenhit is:  33.8\n"
     ]
    }
   ],
   "source": [
    "temp=int(input(\"enter the temperature \"))\n",
    "unit=input(\"enter the temp unit \")\n",
    "if unit==\"c\":\n",
    "    print(\"the temperature in fahrenhit is: \", (temp*9)/5+32)\n",
    "else:\n",
    "    print(\"the temperature in celsius is: \", (temp-32)*5/9)  "
   ]
  },
  {
   "cell_type": "markdown",
   "metadata": {},
   "source": [
    "### 09) WAP to find the distance between two points in 2-D space."
   ]
  },
  {
   "cell_type": "code",
   "execution_count": 9,
   "metadata": {},
   "outputs": [
    {
     "name": "stdout",
     "output_type": "stream",
     "text": [
      "enter the x coordinate of both the points\n"
     ]
    },
    {
     "name": "stdin",
     "output_type": "stream",
     "text": [
      "enter the x coordinate of the first point 2\n",
      "enter the x coordinate of the second point 2\n",
      "enter the y coordinate of the first point 4\n",
      "enter the y coordinate of the second point 4\n"
     ]
    },
    {
     "name": "stdout",
     "output_type": "stream",
     "text": [
      "the distance between the (2, 4) and (2, 4) is 0.0\n"
     ]
    }
   ],
   "source": [
    "import math\n",
    "print(\"enter the x coordinate of both the points\")\n",
    "x1=int(input(\"enter the x coordinate of the first point\"))\n",
    "x2=int(input(\"enter the x coordinate of the second point\"))\n",
    "y1=int(input(\"enter the y coordinate of the first point\"))\n",
    "y2=int(input(\"enter the y coordinate of the second point\"))\n",
    "distance =math.sqrt((x2-x1)**2+(y2-y1)**2)\n",
    "print(f\"the distance between the {x1,y1} and {x2,y2} is\",distance) "
   ]
  },
  {
   "cell_type": "markdown",
   "metadata": {},
   "source": [
    "### 10) WAP to print sum of n natural numbers."
   ]
  },
  {
   "cell_type": "code",
   "execution_count": 19,
   "metadata": {},
   "outputs": [
    {
     "name": "stdin",
     "output_type": "stream",
     "text": [
      "enter the number  3\n"
     ]
    },
    {
     "name": "stdout",
     "output_type": "stream",
     "text": [
      "thus the answer is  6\n"
     ]
    }
   ],
   "source": [
    "n=int(input(\"enter the number \"))\n",
    "#print(\"answer is : \",n*(n+1)/2) or\n",
    "sum=0\n",
    "for i in range (n+1):\n",
    "    sum+=i;\n",
    "print(\"thus the answer is \",sum)  "
   ]
  },
  {
   "cell_type": "markdown",
   "metadata": {},
   "source": [
    "### 11) WAP to print sum of square of n natural numbers."
   ]
  },
  {
   "cell_type": "code",
   "execution_count": 25,
   "metadata": {},
   "outputs": [
    {
     "name": "stdin",
     "output_type": "stream",
     "text": [
      "enter the number  2\n"
     ]
    },
    {
     "name": "stdout",
     "output_type": "stream",
     "text": [
      "answer is:  5.0\n"
     ]
    }
   ],
   "source": [
    "n=int(input(\"enter the number \"))\n",
    "print(\"answer is: \",n*(n+1)*(2*n+1)/6)"
   ]
  },
  {
   "cell_type": "markdown",
   "metadata": {},
   "source": [
    "### 12) WAP to concate the first and last name of the student."
   ]
  },
  {
   "cell_type": "code",
   "execution_count": 31,
   "metadata": {},
   "outputs": [
    {
     "name": "stdin",
     "output_type": "stream",
     "text": [
      "enter the first name of student Drashti\n",
      "enter the last name of student Ruparelia\n"
     ]
    },
    {
     "name": "stdout",
     "output_type": "stream",
     "text": [
      "the full name of student:  Drashti Ruparelia\n"
     ]
    }
   ],
   "source": [
    "firstname=input(\"enter the first name of student\")\n",
    "lastname=input(\"enter the last name of student\")\n",
    "print(\"the full name of student: \",firstname,lastname)"
   ]
  },
  {
   "cell_type": "markdown",
   "metadata": {},
   "source": [
    "### 13) WAP to swap two numbers."
   ]
  },
  {
   "cell_type": "code",
   "execution_count": 37,
   "metadata": {},
   "outputs": [
    {
     "name": "stdin",
     "output_type": "stream",
     "text": [
      "enter the number  2\n",
      "enter the number  4\n"
     ]
    },
    {
     "name": "stdout",
     "output_type": "stream",
     "text": [
      "before swap:\n",
      "number1: 2\n",
      "number2: 4\n",
      "after swap: \n",
      "number1: 4\n",
      "number2: 2\n"
     ]
    }
   ],
   "source": [
    "num1=int(input(\"enter the number \"))\n",
    "num2=int(input(\"enter the number \"))\n",
    "print(f\"before swap:\\nnumber1: {num1}\\nnumber2: {num2}\")\n",
    "temp=num1\n",
    "num1=num2\n",
    "num2=temp\n",
    "print(f\"after swap: \\nnumber1: {num1}\\nnumber2: {num2}\")"
   ]
  },
  {
   "cell_type": "markdown",
   "metadata": {},
   "source": [
    "### 14) WAP to get the distance from user into kilometer, and convert it into meter, feet, inches and centimeter."
   ]
  },
  {
   "cell_type": "code",
   "execution_count": 39,
   "metadata": {},
   "outputs": [
    {
     "name": "stdin",
     "output_type": "stream",
     "text": [
      "enter the distance in km  2\n",
      "enter the unit in which you want to convert the distance units are m,ft,inch,cm cm\n"
     ]
    },
    {
     "name": "stdout",
     "output_type": "stream",
     "text": [
      "the answer is:  200000\n"
     ]
    }
   ],
   "source": [
    "distance=int(input(\"enter the distance in km \"))\n",
    "convertTo=input(\"enter the unit in which you want to convert the distance units are m,ft,inch,cm\")\n",
    "if convertTo==\"m\":\n",
    "    print(\"the answer is: \",distance*1000)\n",
    "elif convertTo==\"ft\":\n",
    "    print(\"the answer is: \",distance*3280)\n",
    "elif convertTo==\"inch\":\n",
    "    print(\"the answer is: \",distance*39370)\n",
    "else:\n",
    "    print(\"the answer is: \",distance*100000)"
   ]
  },
  {
   "cell_type": "markdown",
   "metadata": {},
   "source": [
    "### 15) WAP to get day, month and year from the user and print the date in the given format: 23-11-2024."
   ]
  },
  {
   "cell_type": "code",
   "execution_count": 43,
   "metadata": {},
   "outputs": [
    {
     "name": "stdin",
     "output_type": "stream",
     "text": [
      "enter the day in km  23\n",
      "enter the month in km  08\n",
      "enter the year in km  2024\n"
     ]
    },
    {
     "name": "stdout",
     "output_type": "stream",
     "text": [
      "thus the date is: 23-8-2024\n"
     ]
    }
   ],
   "source": [
    "day=int(input(\"enter the day in km \"))\n",
    "month=int(input(\"enter the month in km \"))\n",
    "year=int(input(\"enter the year in km \"))\n",
    "print(f\"thus the date is: {day}-{month}-{year}\")"
   ]
  }
 ],
 "metadata": {
  "kernelspec": {
   "display_name": "Python 3 (ipykernel)",
   "language": "python",
   "name": "python3"
  },
  "language_info": {
   "codemirror_mode": {
    "name": "ipython",
    "version": 3
   },
   "file_extension": ".py",
   "mimetype": "text/x-python",
   "name": "python",
   "nbconvert_exporter": "python",
   "pygments_lexer": "ipython3",
   "version": "3.12.7"
  },
  "vscode": {
   "interpreter": {
    "hash": "31f2aee4e71d21fbe5cf8b01ff0e069b9275f58929596ceb00d14d90e3e16cd6"
   }
  }
 },
 "nbformat": 4,
 "nbformat_minor": 4
}
