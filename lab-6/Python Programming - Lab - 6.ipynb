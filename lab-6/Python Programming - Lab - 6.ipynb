{
 "cells": [
  {
   "attachments": {},
   "cell_type": "markdown",
   "metadata": {},
   "source": [
    "<a href='https://www.darshan.ac.in/'> <img src='https://www.darshan.ac.in/Content/media/DU_Logo.svg' width=\"250\" height=\"300\"/></a>\n",
    "<pre>\n",
    "<center><b><h1>Python Programming - 2301CS404</b></center>\n",
    "<center><b><h1>Lab - 6</b></center>    \n",
    "<pre>"
   ]
  },
  {
   "cell_type": "markdown",
   "metadata": {},
   "source": [
    "# Tuple"
   ]
  },
  {
   "cell_type": "markdown",
   "metadata": {},
   "source": [
    "### 01) WAP to find sum of tuple elements."
   ]
  },
  {
   "cell_type": "code",
   "execution_count": 6,
   "metadata": {},
   "outputs": [
    {
     "name": "stdin",
     "output_type": "stream",
     "text": [
      "Enter total element of tuple 3\n",
      "Enter element 1\n",
      "Enter element 2\n",
      "Enter element 3\n"
     ]
    },
    {
     "name": "stdout",
     "output_type": "stream",
     "text": [
      "Sum of tuple elments are:  6\n"
     ]
    }
   ],
   "source": [
    "n = int(input(\"Enter total element of tuple\"))\n",
    "l=[]\n",
    "for i in range(1,n+1):\n",
    "    num = int(input(\"Enter element\"))\n",
    "    l.append(num)\n",
    "t1 = tuple(l)\n",
    "# -------or----------\n",
    "# l = input(\"Enter elements separated by spaces: \").split()\n",
    "# # Converting list to tuple\n",
    "# t1 = tuple(l)\n",
    "# store elements as a string\n",
    "\n",
    "Sum = sum(t1)\n",
    "print(\"Sum of tuple elments are: \",Sum)"
   ]
  },
  {
   "cell_type": "markdown",
   "metadata": {},
   "source": [
    "### 02) WAP to find Maximum and Minimum K elements in a given tuple."
   ]
  },
  {
   "cell_type": "code",
   "execution_count": 2,
   "metadata": {},
   "outputs": [
    {
     "name": "stdin",
     "output_type": "stream",
     "text": [
      "Enter total element of tuple 7\n",
      "Enter element 2\n",
      "Enter element 5\n",
      "Enter element 8\n",
      "Enter element 1\n",
      "Enter element 9\n",
      "Enter element 4\n",
      "Enter element 6\n",
      "Enter number that how many max and min elements you want to find : 2\n"
     ]
    },
    {
     "name": "stdout",
     "output_type": "stream",
     "text": [
      "Tuple :  (2, 5, 8, 1, 9, 4, 6)\n",
      "2 maximam and minimum values : (1, 2, 8, 9)\n"
     ]
    }
   ],
   "source": [
    "n = int(input(\"Enter total element of tuple\"))\n",
    "l=[]\n",
    "for i in range(1,n+1):\n",
    "    num = int(input(\"Enter element\"))\n",
    "    l.append(num)\n",
    "t1 = tuple(l)\n",
    "k = int(input(\"Enter number that how many max and min elements you want to find :\"))\n",
    "sortedCol = sorted(list(t1))\n",
    "vals = tuple(sortedCol[:k] + sortedCol[-k:])\n",
    "print(\"Tuple : \",t1)\n",
    "print(f\"{k} maximam and minimum values : {vals}\")"
   ]
  },
  {
   "cell_type": "markdown",
   "metadata": {},
   "source": [
    "### 03) WAP to find tuples which have all elements divisible by K from a list of tuples."
   ]
  },
  {
   "cell_type": "code",
   "execution_count": 4,
   "metadata": {},
   "outputs": [
    {
     "name": "stdin",
     "output_type": "stream",
     "text": [
      "Enter a number by which all the elements of the tuple are divisible : 5\n",
      "Enter total element of tuple 5\n",
      "Enter element 5\n",
      "Enter element 10\n",
      "Enter element 12\n",
      "Enter element 15\n",
      "Enter element 13\n"
     ]
    },
    {
     "name": "stdout",
     "output_type": "stream",
     "text": [
      "(5, 10, 15)\n"
     ]
    }
   ],
   "source": [
    "k = int(input(\"Enter a number by which all the elements of the tuple are divisible :\"))\n",
    "n = int(input(\"Enter total element of tuple\"))\n",
    "l=[]\n",
    "for i in range(1,n+1):\n",
    "    num = int(input(\"Enter element\"))\n",
    "    if num % k == 0:\n",
    "        l.append(num)\n",
    "t1 = tuple(l)\n",
    "print(t1)"
   ]
  },
  {
   "cell_type": "markdown",
   "metadata": {},
   "source": [
    "### 04) WAP to create a list of tuples from given list having number and its cube in each tuple."
   ]
  },
  {
   "cell_type": "code",
   "execution_count": 83,
   "metadata": {},
   "outputs": [
    {
     "name": "stdin",
     "output_type": "stream",
     "text": [
      "Enter total element of tuple 3\n",
      "Enter element 1\n",
      "Enter element 2\n",
      "Enter element 3\n"
     ]
    },
    {
     "name": "stdout",
     "output_type": "stream",
     "text": [
      "[(1, 1), (2, 8), (3, 27)]\n"
     ]
    }
   ],
   "source": [
    "n = int(input(\"Enter total element of tuple\"))\n",
    "l=[]\n",
    "for i in range(1,n+1):\n",
    "    num = int(input(\"Enter element\"))\n",
    "    l.append(num)\n",
    "Ans=[(i,pow(i,3)) for i in l]\n",
    "print(Ans)"
   ]
  },
  {
   "cell_type": "markdown",
   "metadata": {},
   "source": [
    "### 05) WAP to find tuples with all positive elements from the given list of tuples."
   ]
  },
  {
   "cell_type": "code",
   "execution_count": 85,
   "metadata": {},
   "outputs": [
    {
     "name": "stdin",
     "output_type": "stream",
     "text": [
      "Enter total element of tuple 3\n",
      "enter the tuples space separated -1 2 3\n",
      "enter the tuples space separated 1 1 1\n",
      "enter the tuples space separated -2 3 -1\n"
     ]
    },
    {
     "name": "stdout",
     "output_type": "stream",
     "text": [
      "(1, 1, 1)\n"
     ]
    }
   ],
   "source": [
    "n = int(input(\"Enter total element of tuple\"))\n",
    "l=[]\n",
    "for i in range(1,n+1):\n",
    "   x=input(\"enter the tuples space separated\").split()#tuple enter karava mate aa be line che\n",
    "   t=tuple(int(i) for i in x)\n",
    "   l.append(t)\n",
    "for i in l:\n",
    "    if all(x>0 for x in i):\n",
    "        print(i)"
   ]
  },
  {
   "cell_type": "markdown",
   "metadata": {},
   "source": [
    "### 06) WAP to add tuple to list and vice – versa."
   ]
  },
  {
   "cell_type": "code",
   "execution_count": 75,
   "metadata": {},
   "outputs": [
    {
     "name": "stdin",
     "output_type": "stream",
     "text": [
      "enter the tuples space separated 3\n",
      "Enter total element of list 4\n",
      "Enter element 1\n",
      "Enter element 2\n",
      "Enter element 4\n",
      "Enter element 6\n"
     ]
    },
    {
     "name": "stdout",
     "output_type": "stream",
     "text": [
      "[1, 2, 4, 6]\n",
      "(3, [1, 2, 4, 6])\n"
     ]
    }
   ],
   "source": [
    "l=[]\n",
    "#tuple to list\n",
    "# for i in range(1,n+1):\n",
    "x=input(\"enter the tuples space separated\").split()#tuple enter karava mate aa be line che\n",
    "t=tuple(int(i) for i in x)\n",
    "l.append(t)#list to tuple mate ane comment kari nakhvani or else ee akhu list samajse\n",
    "# print(l)\n",
    "\n",
    "\n",
    "#t1=tuple(l)\n",
    "n = int(input(\"Enter total element of list\"))\n",
    "\n",
    "for i in range(1,n+1):\n",
    "    num = int(input(\"Enter element\"))\n",
    "    l.append(num)\n",
    "#     t1=tuple(l1)\n",
    "print(l)\n",
    "\n",
    "#list to tuple\n",
    "l1=list(t)\n",
    "l1.append(l)\n",
    "res=tuple(l1)\n",
    "print(res)"
   ]
  },
  {
   "cell_type": "markdown",
   "metadata": {},
   "source": [
    "### 07) WAP to remove tuples of length K."
   ]
  },
  {
   "cell_type": "code",
   "execution_count": 49,
   "metadata": {},
   "outputs": [
    {
     "name": "stdin",
     "output_type": "stream",
     "text": [
      "Enter total element of tuple 2\n",
      "enter the tuples space separated 1 2 3\n",
      "enter the tuples space separated 3 2\n",
      "Enter total length of tuple to be removed 2\n"
     ]
    },
    {
     "name": "stdout",
     "output_type": "stream",
     "text": [
      "[(1, 2, 3)]\n"
     ]
    }
   ],
   "source": [
    "n = int(input(\"Enter total element of tuple\"))\n",
    "l=[]\n",
    "for i in range(1,n+1):\n",
    "   x=input(\"enter the tuples space separated\").split()#tuple enter karava mate aa be line che\n",
    "   t=tuple(int(i) for i in x)\n",
    "   l.append(t)\n",
    "   \n",
    "k = int(input(\"Enter total length of tuple to be removed\"))\n",
    "for i in l:\n",
    "    if len(i)==k:\n",
    "        l.remove(i)\n",
    "print(l)"
   ]
  },
  {
   "cell_type": "markdown",
   "metadata": {},
   "source": [
    "### 08) WAP to remove duplicates from tuple."
   ]
  },
  {
   "cell_type": "code",
   "execution_count": 21,
   "metadata": {},
   "outputs": [
    {
     "name": "stdin",
     "output_type": "stream",
     "text": [
      "Enter total element of tuple 4\n",
      "Enter element 1\n",
      "Enter element 1\n",
      "Enter element 2\n",
      "Enter element 2\n"
     ]
    },
    {
     "name": "stdout",
     "output_type": "stream",
     "text": [
      "(1, 2)\n"
     ]
    }
   ],
   "source": [
    "n = int(input(\"Enter total element of tuple\"))\n",
    "l=[]\n",
    "for i in range(1,n+1):\n",
    "    num = int(input(\"Enter element\"))\n",
    "    l.append(num)\n",
    "s1=set(l)\n",
    "t1=tuple(s1)\n",
    "print(t1)"
   ]
  },
  {
   "cell_type": "markdown",
   "metadata": {},
   "source": [
    "### 09) WAP to multiply adjacent elements of a tuple and print that resultant tuple."
   ]
  },
  {
   "cell_type": "code",
   "execution_count": 19,
   "metadata": {},
   "outputs": [
    {
     "name": "stdin",
     "output_type": "stream",
     "text": [
      "Enter total element of tuple 4\n",
      "Enter element 1\n",
      "Enter element 2\n",
      "Enter element 3\n",
      "Enter element 4\n"
     ]
    },
    {
     "name": "stdout",
     "output_type": "stream",
     "text": [
      "(2, 6, 12)\n"
     ]
    }
   ],
   "source": [
    "n = int(input(\"Enter total element of tuple\"))\n",
    "l=[]\n",
    "for i in range(1,n+1):\n",
    "    num = int(input(\"Enter element\"))\n",
    "    l.append(num)\n",
    "t1 = tuple(l)\n",
    "l1=[]\n",
    "num=1\n",
    "for i in range(0,n-1):\n",
    "    num=l[i]*l[i+1]\n",
    "    l1.append(num)\n",
    "t2=tuple(l1)\n",
    "print(t2)"
   ]
  },
  {
   "cell_type": "markdown",
   "metadata": {},
   "source": [
    "### 10) WAP to test if the given tuple is distinct or not."
   ]
  },
  {
   "cell_type": "code",
   "execution_count": 7,
   "metadata": {},
   "outputs": [
    {
     "name": "stdin",
     "output_type": "stream",
     "text": [
      "Enter total element of tuple 3\n",
      "Enter element 1\n",
      "Enter element 2\n",
      "Enter element 3\n"
     ]
    },
    {
     "name": "stdout",
     "output_type": "stream",
     "text": [
      "the tuple is distinct\n"
     ]
    }
   ],
   "source": [
    "n = int(input(\"Enter total element of tuple\"))\n",
    "l=[]\n",
    "for i in range(1,n+1):\n",
    "    num = int(input(\"Enter element\"))\n",
    "    l.append(num)\n",
    "t1 = tuple(l)\n",
    "s1=set(t1)\n",
    "if len(t1)==len(s1):\n",
    "    print(\"the tuple is distinct\")\n",
    "else:\n",
    "    print(\"the tuple is not distinct\")"
   ]
  }
 ],
 "metadata": {
  "kernelspec": {
   "display_name": "Python 3 (ipykernel)",
   "language": "python",
   "name": "python3"
  },
  "language_info": {
   "codemirror_mode": {
    "name": "ipython",
    "version": 3
   },
   "file_extension": ".py",
   "mimetype": "text/x-python",
   "name": "python",
   "nbconvert_exporter": "python",
   "pygments_lexer": "ipython3",
   "version": "3.12.7"
  }
 },
 "nbformat": 4,
 "nbformat_minor": 4
}
