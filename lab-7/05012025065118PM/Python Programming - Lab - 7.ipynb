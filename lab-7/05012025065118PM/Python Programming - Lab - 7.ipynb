{
 "cells": [
  {
   "cell_type": "markdown",
   "metadata": {},
   "source": [
    "<a href='https://www.darshan.ac.in/'> <img src='https://www.darshan.ac.in/Content/media/DU_Logo.svg' width=\"250\" height=\"300\"/></a>\n",
    "<pre>\n",
    "<center><b><h1>Python Programming - 2301CS404</b></center>\n",
    "<center><b><h1>Lab - 7</b></center>    \n",
    "<pre>"
   ]
  },
  {
   "cell_type": "markdown",
   "metadata": {},
   "source": [
    "# Set & Dictionary"
   ]
  },
  {
   "cell_type": "markdown",
   "metadata": {},
   "source": [
    "### 01) WAP to iterate over a set."
   ]
  },
  {
   "cell_type": "code",
   "execution_count": 2,
   "metadata": {},
   "outputs": [
    {
     "name": "stdout",
     "output_type": "stream",
     "text": [
      "1\n",
      "2\n",
      "3\n",
      "4\n",
      "5\n"
     ]
    }
   ],
   "source": [
    "s={1,2,3,4,5}\n",
    "s1=[print(i) for i in s]"
   ]
  },
  {
   "cell_type": "markdown",
   "metadata": {},
   "source": [
    "### 02) WAP to convert set into list, string and tuple."
   ]
  },
  {
   "cell_type": "code",
   "execution_count": 4,
   "metadata": {},
   "outputs": [
    {
     "name": "stdout",
     "output_type": "stream",
     "text": [
      "list: [1, 2, 3, 4, 5]\n",
      "tuple: (1, 2, 3, 4, 5)\n"
     ]
    }
   ],
   "source": [
    "s={1,2,3,4,5}\n",
    "l=list(s)\n",
    "t=tuple(s)\n",
    "print(\"list:\",l)\n",
    "print(\"tuple:\",t)"
   ]
  },
  {
   "cell_type": "markdown",
   "metadata": {},
   "source": [
    "### 03) WAP to find Maximum and Minimum from a set."
   ]
  },
  {
   "cell_type": "code",
   "execution_count": 8,
   "metadata": {},
   "outputs": [
    {
     "name": "stdout",
     "output_type": "stream",
     "text": [
      "the max: 9\n",
      "the min: 2\n"
     ]
    }
   ],
   "source": [
    "s={7,2,9,4,5}\n",
    "s1=max(s)\n",
    "s2=min(s)\n",
    "print(\"the max:\",s1)\n",
    "print(\"the min:\",s2)"
   ]
  },
  {
   "cell_type": "markdown",
   "metadata": {},
   "source": [
    "### 04) WAP to perform union of two sets."
   ]
  },
  {
   "cell_type": "code",
   "execution_count": 10,
   "metadata": {},
   "outputs": [
    {
     "name": "stdout",
     "output_type": "stream",
     "text": [
      "{1, 2, 3, 4, 5, 7, 9}\n"
     ]
    }
   ],
   "source": [
    "s1={7,2,9,4,5}\n",
    "s2={1,2,3,4,5}\n",
    "s=s1|s2\n",
    "print(s)"
   ]
  },
  {
   "cell_type": "markdown",
   "metadata": {},
   "source": [
    "### 05) WAP to check if two lists have at-least one element common."
   ]
  },
  {
   "cell_type": "code",
   "execution_count": 16,
   "metadata": {},
   "outputs": [
    {
     "name": "stdout",
     "output_type": "stream",
     "text": [
      "{2, 4, 5}\n"
     ]
    }
   ],
   "source": [
    "l1=[7,2,9,4,5]\n",
    "s1=set(l1)\n",
    "l2=[1,2,4,5,3]\n",
    "s2=set(l2)\n",
    "s=s1&s2\n",
    "if s!=set():\n",
    "    print(s)\n",
    "else:\n",
    "    print(\"no common element\")"
   ]
  },
  {
   "cell_type": "markdown",
   "metadata": {},
   "source": [
    "### 06) WAP to remove duplicates from list."
   ]
  },
  {
   "cell_type": "code",
   "execution_count": 18,
   "metadata": {},
   "outputs": [
    {
     "name": "stdout",
     "output_type": "stream",
     "text": [
      "before removing the duplicates [1, 2, 2, 3, 3, 4, 5, 5]\n",
      "after removing the duplicates the list are [1, 2, 3, 4, 5]\n"
     ]
    }
   ],
   "source": [
    "l=[1,2,2,3,3,4,5,5]\n",
    "print(\"before removing the duplicates\",l)\n",
    "s=list(set(l))\n",
    "print(\"after removing the duplicates the list are\",s)"
   ]
  },
  {
   "cell_type": "markdown",
   "metadata": {},
   "source": [
    "### 07) WAP to find unique words in the given string."
   ]
  },
  {
   "cell_type": "code",
   "execution_count": 27,
   "metadata": {},
   "outputs": [
    {
     "name": "stdin",
     "output_type": "stream",
     "text": [
      "enter the sentence hello world hello everyone hello \n"
     ]
    },
    {
     "name": "stdout",
     "output_type": "stream",
     "text": [
      "the unique words are: {'world', 'everyone', 'hello'}\n"
     ]
    }
   ],
   "source": [
    "s1=input(\"enter the sentence\").split()\n",
    "s=set(s1)\n",
    "print(\"the unique words are:\",s)"
   ]
  },
  {
   "cell_type": "markdown",
   "metadata": {},
   "source": [
    "### 08) WAP to remove common elements of set A & B from set A."
   ]
  },
  {
   "cell_type": "code",
   "execution_count": 25,
   "metadata": {},
   "outputs": [
    {
     "name": "stdout",
     "output_type": "stream",
     "text": [
      "thus the after removing the common element the set is {9, 7}\n"
     ]
    }
   ],
   "source": [
    "a={7,2,9,4,5}\n",
    "b={1,2,4,5,3}\n",
    "s=a&b\n",
    "a=a-s\n",
    "print(\"thus the after removing the common element the set is\",a)"
   ]
  },
  {
   "cell_type": "markdown",
   "metadata": {},
   "source": [
    "### 09) WAP to check whether two given strings are anagram or not using dictionary."
   ]
  },
  {
   "cell_type": "code",
   "execution_count": 45,
   "metadata": {},
   "outputs": [
    {
     "name": "stdin",
     "output_type": "stream",
     "text": [
      "enter the word1 decimal\n",
      "enter the word2 medical\n"
     ]
    },
    {
     "name": "stdout",
     "output_type": "stream",
     "text": [
      "the two string are anagram\n"
     ]
    }
   ],
   "source": [
    "#decimal and medical are anagrams and looped and poodle\n",
    "s1=input(\"enter the word1\")\n",
    "s2=input(\"enter the word2\")\n",
    "\n",
    "dict1 = {}\n",
    "for i in s1:\n",
    "    if i in dict1:\n",
    "        dict1[i] += 1\n",
    "    else:\n",
    "        dict1[i] = 1\n",
    "\n",
    "dict2 = {}\n",
    "for i in s2:\n",
    "    if i in dict2:\n",
    "        dict2[i] += 1\n",
    "    else:\n",
    "        dict2[i] = 1\n",
    "\n",
    "if dict1==dict2:\n",
    "    print(\"the two string are anagram\")\n",
    "else:\n",
    "    print(\"the two string are not anagram\")"
   ]
  },
  {
   "cell_type": "markdown",
   "metadata": {},
   "source": [
    "### 10) WAP to find common elements in three lists using set."
   ]
  },
  {
   "cell_type": "code",
   "execution_count": 39,
   "metadata": {},
   "outputs": [
    {
     "name": "stdout",
     "output_type": "stream",
     "text": [
      "{2}\n"
     ]
    }
   ],
   "source": [
    "l1=[7,2,9,4,5]\n",
    "a=set(l1)\n",
    "l2=[1,2,4,5,3]\n",
    "b=set(l2)\n",
    "l3=[2,12,13,14]\n",
    "c=set(l3)\n",
    "s=a&b&c\n",
    "print(s)"
   ]
  },
  {
   "cell_type": "markdown",
   "metadata": {},
   "source": [
    "### 11) WAP to count number of vowels in given string using set."
   ]
  },
  {
   "cell_type": "code",
   "execution_count": 51,
   "metadata": {},
   "outputs": [
    {
     "name": "stdin",
     "output_type": "stream",
     "text": [
      "enter the sentence drashti ruparelia\n"
     ]
    },
    {
     "name": "stdout",
     "output_type": "stream",
     "text": [
      "7\n"
     ]
    }
   ],
   "source": [
    "s1=input(\"enter the sentence\")\n",
    "count=0\n",
    "s={'a','e','i','o','u'}\n",
    "for i in s1:\n",
    "    if i in s:\n",
    "        count+=1\n",
    "print(count)"
   ]
  },
  {
   "cell_type": "markdown",
   "metadata": {},
   "source": [
    "### 12) WAP to check if a given string is binary string or not."
   ]
  },
  {
   "cell_type": "code",
   "execution_count": 65,
   "metadata": {},
   "outputs": [
    {
     "name": "stdin",
     "output_type": "stream",
     "text": [
      "enter the sentence 101010\n"
     ]
    },
    {
     "name": "stdout",
     "output_type": "stream",
     "text": [
      "the string is binary\n"
     ]
    }
   ],
   "source": [
    "s1=input(\"enter the sentence\")\n",
    "count=0\n",
    "l=list(s1)\n",
    "\n",
    "for i in l:\n",
    "    if i!=\"1\" and i!=\"0\":\n",
    "        print(\"the string is not binary\")\n",
    "        break\n",
    "else:\n",
    "    print(\"the string is binary\")"
   ]
  },
  {
   "cell_type": "markdown",
   "metadata": {},
   "source": [
    "### 13) WAP to sort dictionary by key or value."
   ]
  },
  {
   "cell_type": "code",
   "execution_count": 67,
   "metadata": {},
   "outputs": [
    {
     "name": "stdout",
     "output_type": "stream",
     "text": [
      "{'c': 8, 'd': 5, 'e': 2}\n"
     ]
    }
   ],
   "source": [
    "dict1 = {'d': 5, 'c': 8, 'e': 2}\n",
    "myKeys = list(dict1.keys())\n",
    "myKeys.sort()\n",
    "sd = {i: dict1[i] for i in myKeys}\n",
    "print(sd)"
   ]
  },
  {
   "cell_type": "markdown",
   "metadata": {},
   "source": [
    "### 14) WAP to find the sum of all items (values) in a dictionary given by user. (Assume: values are numeric)"
   ]
  },
  {
   "cell_type": "code",
   "execution_count": null,
   "metadata": {},
   "outputs": [],
   "source": []
  },
  {
   "cell_type": "markdown",
   "metadata": {},
   "source": [
    "### 15) WAP to handle missing keys in dictionaries.\n",
    "#### Example : Given, dict1 = {'a': 5, 'c': 8, 'e': 2} \n",
    "#### if you look for key = 'd', the message given should be 'Key Not Found', otherwise print the value of 'd' in dict1."
   ]
  },
  {
   "cell_type": "code",
   "execution_count": null,
   "metadata": {},
   "outputs": [],
   "source": []
  }
 ],
 "metadata": {
  "kernelspec": {
   "display_name": "Python 3 (ipykernel)",
   "language": "python",
   "name": "python3"
  },
  "language_info": {
   "codemirror_mode": {
    "name": "ipython",
    "version": 3
   },
   "file_extension": ".py",
   "mimetype": "text/x-python",
   "name": "python",
   "nbconvert_exporter": "python",
   "pygments_lexer": "ipython3",
   "version": "3.12.7"
  }
 },
 "nbformat": 4,
 "nbformat_minor": 4
}
