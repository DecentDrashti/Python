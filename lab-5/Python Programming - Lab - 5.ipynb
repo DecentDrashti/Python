{
 "cells": [
  {
   "cell_type": "markdown",
   "metadata": {},
   "source": [
    "<a href='https://www.darshan.ac.in/'> <img src='https://www.darshan.ac.in/Content/media/DU_Logo.svg' width=\"250\" height=\"300\"/></a>\n",
    "<pre>\n",
    "<center><b><h1>Python Programming - 2301CS404</b></center>\n",
    "<center><b><h1>Lab - 5</b></center>    \n",
    "<pre>"
   ]
  },
  {
   "cell_type": "markdown",
   "metadata": {},
   "source": [
    "# List"
   ]
  },
  {
   "cell_type": "markdown",
   "metadata": {},
   "source": [
    "### 01) WAP to find sum of all the elements in a List."
   ]
  },
  {
   "cell_type": "code",
   "execution_count": 8,
   "metadata": {},
   "outputs": [
    {
     "name": "stdout",
     "output_type": "stream",
     "text": [
      "thus the sum is: 10\n"
     ]
    }
   ],
   "source": [
    "l1=[i for i in range(5)]\n",
    "sum=0;\n",
    "for i in l1:\n",
    "    sum+=i\n",
    "print(\"thus the sum is:\",sum)"
   ]
  },
  {
   "cell_type": "markdown",
   "metadata": {},
   "source": [
    "### 02) WAP to find largest element in a List."
   ]
  },
  {
   "cell_type": "code",
   "execution_count": 18,
   "metadata": {},
   "outputs": [
    {
     "name": "stdin",
     "output_type": "stream",
     "text": [
      "enter the total number of element in list 3\n",
      "enter the number 4\n",
      "enter the number 8\n",
      "enter the number 1\n"
     ]
    },
    {
     "name": "stdout",
     "output_type": "stream",
     "text": [
      "the largest number is: 8\n"
     ]
    }
   ],
   "source": [
    "n=int(input(\"enter the total number of element in list\"))\n",
    "l1=[]\n",
    "for i in range (1,n+1):\n",
    "  num=int(input(\"enter the number\"))\n",
    "  l1.append(num)\n",
    "max=l1[1]\n",
    "for i in l1:\n",
    "    if max<i:\n",
    "        max=i\n",
    "print(\"the largest number is:\",max)"
   ]
  },
  {
   "cell_type": "markdown",
   "metadata": {},
   "source": [
    "### 03) WAP to find the length of a List."
   ]
  },
  {
   "cell_type": "code",
   "execution_count": 20,
   "metadata": {},
   "outputs": [
    {
     "name": "stdout",
     "output_type": "stream",
     "text": [
      "thus the length of the list is 3\n"
     ]
    }
   ],
   "source": [
    "l1=[1,2,3]\n",
    "print(\"thus the length of the list is\",len(l1))"
   ]
  },
  {
   "cell_type": "markdown",
   "metadata": {},
   "source": [
    "### 04) WAP to interchange first and last elements in a list."
   ]
  },
  {
   "cell_type": "code",
   "execution_count": 30,
   "metadata": {},
   "outputs": [
    {
     "name": "stdin",
     "output_type": "stream",
     "text": [
      "enter the total number of element in list 3\n",
      "enter the number 1\n",
      "enter the number 2\n",
      "enter the number 3\n"
     ]
    },
    {
     "name": "stdout",
     "output_type": "stream",
     "text": [
      "3\n",
      "2\n",
      "1\n"
     ]
    }
   ],
   "source": [
    "n=int(input(\"enter the total number of element in list\"))\n",
    "l1=[]\n",
    "for i in range (1,n+1):\n",
    "  num=int(input(\"enter the number\"))\n",
    "  l1.append(num)\n",
    "\n",
    "temp=l1[0]\n",
    "l1[0]=l1[n-1]\n",
    "l1[n-1]=temp\n",
    "for i in l1:\n",
    "    print(i)"
   ]
  },
  {
   "cell_type": "markdown",
   "metadata": {},
   "source": [
    "### 05) WAP to split the List into two parts and append the first part to the end."
   ]
  },
  {
   "cell_type": "code",
   "execution_count": 60,
   "metadata": {},
   "outputs": [
    {
     "name": "stdout",
     "output_type": "stream",
     "text": [
      "[7, 4, 5, 9, 5, 8, 9]\n"
     ]
    }
   ],
   "source": [
    "l1=[5,8,9,7,4,5,9]\n",
    "l2=l1[0:int(len(l1)/2)]\n",
    "l3=l1[int(len(l1)/2):len(l1)]\n",
    "l3.extend(l2)\n",
    "print(l3)"
   ]
  },
  {
   "cell_type": "markdown",
   "metadata": {},
   "source": [
    "### 06) WAP to interchange the elements on two positions entered by a user."
   ]
  },
  {
   "cell_type": "code",
   "execution_count": 34,
   "metadata": {},
   "outputs": [
    {
     "name": "stdin",
     "output_type": "stream",
     "text": [
      "enter the total number of element in list 5\n",
      "enter the number 1\n",
      "enter the number 2\n",
      "enter the number 3\n",
      "enter the number 4\n",
      "enter the number 5\n",
      "enter the first index 2\n",
      "enter the second index 4\n"
     ]
    },
    {
     "name": "stdout",
     "output_type": "stream",
     "text": [
      "[1, 2, 5, 4, 3]\n"
     ]
    }
   ],
   "source": [
    "n=int(input(\"enter the total number of element in list\"))\n",
    "l1=[]\n",
    "for i in range (1,n+1):\n",
    "  num=int(input(\"enter the number\"))\n",
    "  l1.append(num)\n",
    "index1=int(input(\"enter the first index\"))\n",
    "index2=int(input(\"enter the second index\"))\n",
    "temp=l1[index1]\n",
    "l1[index1]=l1[index2]\n",
    "l1[index2]=temp\n",
    "print(l1)"
   ]
  },
  {
   "cell_type": "markdown",
   "metadata": {},
   "source": [
    "### 07) WAP to reverse the list entered by user."
   ]
  },
  {
   "cell_type": "code",
   "execution_count": 36,
   "metadata": {},
   "outputs": [
    {
     "name": "stdin",
     "output_type": "stream",
     "text": [
      "enter the total number of element in list 3\n",
      "enter the number 1\n",
      "enter the number 2\n",
      "enter the number 3\n"
     ]
    },
    {
     "name": "stdout",
     "output_type": "stream",
     "text": [
      "[3, 2, 1]\n"
     ]
    }
   ],
   "source": [
    "n=int(input(\"enter the total number of element in list\"))\n",
    "l1=[]\n",
    "for i in range (1,n+1):\n",
    "  num=int(input(\"enter the number\"))\n",
    "  l1.append(num)\n",
    "l1.reverse()\n",
    "print(l1)"
   ]
  },
  {
   "cell_type": "markdown",
   "metadata": {},
   "source": [
    "### 08) WAP to print even numbers in a list."
   ]
  },
  {
   "cell_type": "code",
   "execution_count": 42,
   "metadata": {},
   "outputs": [
    {
     "name": "stdin",
     "output_type": "stream",
     "text": [
      "enter the total number of element in list 3\n",
      "enter the number 1\n",
      "enter the number 2\n",
      "enter the number 3\n"
     ]
    },
    {
     "name": "stdout",
     "output_type": "stream",
     "text": [
      "thus the even numbers if present in list are as follows\n",
      "2\n"
     ]
    }
   ],
   "source": [
    "n=int(input(\"enter the total number of element in list\"))\n",
    "l1=[]\n",
    "for i in range (1,n+1):\n",
    "  num=int(input(\"enter the number\"))\n",
    "  l1.append(num)\n",
    "print(\"thus the even numbers if present in list are as follows\")\n",
    "for i in l1:\n",
    "    if i%2==0:\n",
    "        print(i)"
   ]
  },
  {
   "cell_type": "markdown",
   "metadata": {},
   "source": [
    "### 09) WAP to count unique items in a list."
   ]
  },
  {
   "cell_type": "code",
   "execution_count": 68,
   "metadata": {},
   "outputs": [
    {
     "name": "stdin",
     "output_type": "stream",
     "text": [
      "enter the total number of element in list 3\n",
      "enter the number 3\n",
      "enter the number 3\n",
      "enter the number 3\n"
     ]
    },
    {
     "name": "stdout",
     "output_type": "stream",
     "text": [
      "thus the unique numbers are as follows: 1\n",
      "{3}\n"
     ]
    }
   ],
   "source": [
    "n=int(input(\"enter the total number of element in list\"))\n",
    "l1=[]\n",
    "for i in range (1,n+1):\n",
    "  num=int(input(\"enter the number\"))\n",
    "  l1.append(num)\n",
    "s=set(l1)\n",
    "print(\"thus the unique numbers are as follows:\",len(s))\n",
    "print(s)"
   ]
  },
  {
   "cell_type": "markdown",
   "metadata": {},
   "source": [
    "### 10) WAP to copy a list."
   ]
  },
  {
   "cell_type": "code",
   "execution_count": 44,
   "metadata": {},
   "outputs": [
    {
     "name": "stdin",
     "output_type": "stream",
     "text": [
      "enter the total number of element in list 3\n",
      "enter the number 1\n",
      "enter the number 2\n",
      "enter the number 3\n"
     ]
    },
    {
     "name": "stdout",
     "output_type": "stream",
     "text": [
      "[1, 2, 3]\n"
     ]
    }
   ],
   "source": [
    "n=int(input(\"enter the total number of element in list\"))\n",
    "l1=[]\n",
    "for i in range (1,n+1):\n",
    "  num=int(input(\"enter the number\"))\n",
    "  l1.append(num)\n",
    "l2=l1.copy()\n",
    "print(l2)"
   ]
  },
  {
   "cell_type": "markdown",
   "metadata": {},
   "source": [
    "### 11) WAP to print all odd numbers in a given range."
   ]
  },
  {
   "cell_type": "code",
   "execution_count": 48,
   "metadata": {},
   "outputs": [
    {
     "name": "stdin",
     "output_type": "stream",
     "text": [
      "enter the range of element in list 5\n"
     ]
    },
    {
     "name": "stdout",
     "output_type": "stream",
     "text": [
      "thus the odd number are as follows\n",
      "[1, 3, 5]\n"
     ]
    }
   ],
   "source": [
    "n=int(input(\"enter the range of element in list\"))\n",
    "print(\"thus the odd number are as follows\")\n",
    "l1=[i for i in range(n+1) if i%2!=0]\n",
    "print(l1)"
   ]
  },
  {
   "cell_type": "markdown",
   "metadata": {},
   "source": [
    "### 12) WAP to count occurrences of an element in a list."
   ]
  },
  {
   "cell_type": "code",
   "execution_count": 52,
   "metadata": {},
   "outputs": [
    {
     "name": "stdin",
     "output_type": "stream",
     "text": [
      "enter the total number of element in list 5\n",
      "enter the number 1\n",
      "enter the number 2\n",
      "enter the number 3\n",
      "enter the number 3\n",
      "enter the number 3\n",
      "enter the number of which you need the occurence 3\n"
     ]
    },
    {
     "name": "stdout",
     "output_type": "stream",
     "text": [
      "thus the occurence of 3 is: 3\n"
     ]
    }
   ],
   "source": [
    "n=int(input(\"enter the total number of element in list\"))\n",
    "l1=[]\n",
    "for i in range (1,n+1):\n",
    "  num=int(input(\"enter the number\"))\n",
    "  l1.append(num)\n",
    "count=0;\n",
    "l1.sort()\n",
    "num=int(input(\"enter the number of which you need the occurence\"))\n",
    "for i in l1:\n",
    "    if i==num:\n",
    "        count+=1\n",
    "print(\"thus the occurence of\",num,\"is:\",count)"
   ]
  },
  {
   "cell_type": "markdown",
   "metadata": {},
   "source": [
    "### 13) WAP to find second largest number in a list."
   ]
  },
  {
   "cell_type": "code",
   "execution_count": 54,
   "metadata": {},
   "outputs": [
    {
     "name": "stdin",
     "output_type": "stream",
     "text": [
      "enter the total number of element in list 5\n",
      "enter the number 4\n",
      "enter the number 7\n",
      "enter the number 1\n",
      "enter the number 6\n",
      "enter the number 9\n"
     ]
    },
    {
     "name": "stdout",
     "output_type": "stream",
     "text": [
      "the second largest number is: 7\n"
     ]
    }
   ],
   "source": [
    "n=int(input(\"enter the total number of element in list\"))\n",
    "l1=[]\n",
    "for i in range (1,n+1):\n",
    "  num=int(input(\"enter the number\"))\n",
    "  l1.append(num)\n",
    "l1.sort()\n",
    "print(\"the second largest number is:\",l1[n-2])"
   ]
  },
  {
   "cell_type": "markdown",
   "metadata": {},
   "source": [
    "### 14) WAP to extract elements with frequency greater than K."
   ]
  },
  {
   "cell_type": "code",
   "execution_count": 84,
   "metadata": {},
   "outputs": [
    {
     "name": "stdin",
     "output_type": "stream",
     "text": [
      "enter the total number of element in list 3\n",
      "enter the frequency 1\n",
      "enter the number 1\n",
      "enter the number 2\n",
      "enter the number 2\n"
     ]
    },
    {
     "name": "stdout",
     "output_type": "stream",
     "text": [
      "thus the 2 having frequency greater than 1\n"
     ]
    }
   ],
   "source": [
    "n=int(input(\"enter the total number of element in list\"))\n",
    "k=int(input(\"enter the frequency\"))\n",
    "l1=[]\n",
    "for i in range (1,n+1):\n",
    "  num=int(input(\"enter the number\"))\n",
    "  l1.append(num)\n",
    "s=set(l1)\n",
    "for i in s:\n",
    "    num=l1.count(i)\n",
    "    if num>k:\n",
    "        print(\"thus the\",num,\"having frequency greater than\",k)"
   ]
  },
  {
   "cell_type": "markdown",
   "metadata": {},
   "source": [
    "### 15) WAP to create a list of squared numbers from 0 to 9 with and without using List Comprehension."
   ]
  },
  {
   "cell_type": "code",
   "execution_count": 94,
   "metadata": {},
   "outputs": [
    {
     "name": "stdout",
     "output_type": "stream",
     "text": [
      "[1, 4, 9, 16, 25, 36, 49, 64, 81]\n"
     ]
    }
   ],
   "source": [
    "l1= [i**2 for i in range(1,10)]\n",
    "print(l1)\n",
    "\n",
    "# n=int(input(\"enter the total number of element in list\"))\n",
    "# l1=[]\n",
    "# for i in range (1,n+1):\n",
    "#   num=int(input(\"enter the number\"))\n",
    "#   l1.append(num)"
   ]
  },
  {
   "cell_type": "markdown",
   "metadata": {},
   "source": [
    "# 16) WAP to create a new list (fruit whose name starts with 'b') from the list of fruits given by user."
   ]
  },
  {
   "cell_type": "code",
   "execution_count": 90,
   "metadata": {},
   "outputs": [
    {
     "name": "stdin",
     "output_type": "stream",
     "text": [
      "enter the total number of element in list 3\n",
      "enter the number bhgyugbh\n",
      "enter the number bhygy\n",
      "enter the number jjp\n"
     ]
    },
    {
     "name": "stdout",
     "output_type": "stream",
     "text": [
      "['bhgyugbh', 'bhygy']\n"
     ]
    }
   ],
   "source": [
    "n=int(input(\"enter the total number of element in list\"))\n",
    "l1=[]\n",
    "for i in range (1,n+1):\n",
    "  fruit=input(\"enter the number\")\n",
    "  l1.append(fruit)\n",
    "temp= [i for i in l1 if i[0] == 'b']\n",
    "print(temp)"
   ]
  },
  {
   "cell_type": "markdown",
   "metadata": {},
   "source": [
    "### 17) WAP to create a list of common elements from given two lists."
   ]
  },
  {
   "cell_type": "code",
   "execution_count": 7,
   "metadata": {},
   "outputs": [
    {
     "name": "stdin",
     "output_type": "stream",
     "text": [
      "enter the total number of element in list1 2\n",
      "enter the number 1\n",
      "enter the number 2\n",
      "enter the total number of element in list2 3\n",
      "enter the number 1\n",
      "enter the number 2\n",
      "enter the number 3\n"
     ]
    },
    {
     "name": "stdout",
     "output_type": "stream",
     "text": [
      "the common elements are:  [1, 2]\n"
     ]
    }
   ],
   "source": [
    "n1=int(input(\"enter the total number of element in list1\"))\n",
    "l1=[]\n",
    "for i in range (1,n1+1):\n",
    "  num=int(input(\"enter the number\"))\n",
    "  l1.append(num)\n",
    "n2=int(input(\"enter the total number of element in list2\"))\n",
    "l2=[]\n",
    "for i in range (1,n2+1):\n",
    "  num=int(input(\"enter the number\"))\n",
    "  l2.append(num)\n",
    "l3=[]\n",
    "l3=list(set(l1) & set(l2))\n",
    "print(\"the common elements are: \",l3)"
   ]
  }
 ],
 "metadata": {
  "kernelspec": {
   "display_name": "Python 3 (ipykernel)",
   "language": "python",
   "name": "python3"
  },
  "language_info": {
   "codemirror_mode": {
    "name": "ipython",
    "version": 3
   },
   "file_extension": ".py",
   "mimetype": "text/x-python",
   "name": "python",
   "nbconvert_exporter": "python",
   "pygments_lexer": "ipython3",
   "version": "3.12.7"
  }
 },
 "nbformat": 4,
 "nbformat_minor": 4
}
