{
 "cells": [
  {
   "cell_type": "markdown",
   "metadata": {},
   "source": [
    "<a href='https://www.darshan.ac.in/'> <img src='https://www.darshan.ac.in/Content/media/DU_Logo.svg' width=\"250\" height=\"300\"/></a>\n",
    "<pre>\n",
    "<center><b><h1>Python Programming - 2301CS404</b></center>\n",
    "<center><b><h1>Lab - 9</b></center>    \n",
    "<pre>"
   ]
  },
  {
   "cell_type": "markdown",
   "metadata": {},
   "source": [
    "# File I/O"
   ]
  },
  {
   "cell_type": "markdown",
   "metadata": {},
   "source": [
    "### 01) WAP to read and display the contents of a text file. (also try to open the file in some other directory) \n",
    "#### - in the form of a string\n",
    "#### - line by line\n",
    "#### - in the form of a list"
   ]
  },
  {
   "cell_type": "code",
   "execution_count": 22,
   "metadata": {},
   "outputs": [
    {
     "name": "stdout",
     "output_type": "stream",
     "text": [
      "['DRASHTI RUPARELIA']\n"
     ]
    }
   ],
   "source": [
    "fp=open(\"file1.txt\",\"r\")\n",
    "# print(fp.read())\n",
    "# print(fp.readline())\n",
    "print(fp.readlines())\n",
    "fp.close()"
   ]
  },
  {
   "cell_type": "markdown",
   "metadata": {},
   "source": [
    "### 02) WAP to create file named \"new.txt\" only if it doesn't exist."
   ]
  },
  {
   "cell_type": "code",
   "execution_count": 26,
   "metadata": {},
   "outputs": [
    {
     "ename": "FileExistsError",
     "evalue": "[Errno 17] File exists: 'new.txt'",
     "output_type": "error",
     "traceback": [
      "\u001b[1;31m---------------------------------------------------------------------------\u001b[0m",
      "\u001b[1;31mFileExistsError\u001b[0m                           Traceback (most recent call last)",
      "Cell \u001b[1;32mIn[26], line 1\u001b[0m\n\u001b[1;32m----> 1\u001b[0m fp\u001b[38;5;241m=\u001b[39m\u001b[38;5;28mopen\u001b[39m(\u001b[38;5;124m\"\u001b[39m\u001b[38;5;124mnew.txt\u001b[39m\u001b[38;5;124m\"\u001b[39m,\u001b[38;5;124m\"\u001b[39m\u001b[38;5;124mx\u001b[39m\u001b[38;5;124m\"\u001b[39m)\n\u001b[0;32m      2\u001b[0m fp\u001b[38;5;241m.\u001b[39mclose()\n",
      "File \u001b[1;32m~\\python\\Lib\\site-packages\\IPython\\core\\interactiveshell.py:324\u001b[0m, in \u001b[0;36m_modified_open\u001b[1;34m(file, *args, **kwargs)\u001b[0m\n\u001b[0;32m    317\u001b[0m \u001b[38;5;28;01mif\u001b[39;00m file \u001b[38;5;129;01min\u001b[39;00m {\u001b[38;5;241m0\u001b[39m, \u001b[38;5;241m1\u001b[39m, \u001b[38;5;241m2\u001b[39m}:\n\u001b[0;32m    318\u001b[0m     \u001b[38;5;28;01mraise\u001b[39;00m \u001b[38;5;167;01mValueError\u001b[39;00m(\n\u001b[0;32m    319\u001b[0m         \u001b[38;5;124mf\u001b[39m\u001b[38;5;124m\"\u001b[39m\u001b[38;5;124mIPython won\u001b[39m\u001b[38;5;124m'\u001b[39m\u001b[38;5;124mt let you open fd=\u001b[39m\u001b[38;5;132;01m{\u001b[39;00mfile\u001b[38;5;132;01m}\u001b[39;00m\u001b[38;5;124m by default \u001b[39m\u001b[38;5;124m\"\u001b[39m\n\u001b[0;32m    320\u001b[0m         \u001b[38;5;124m\"\u001b[39m\u001b[38;5;124mas it is likely to crash IPython. If you know what you are doing, \u001b[39m\u001b[38;5;124m\"\u001b[39m\n\u001b[0;32m    321\u001b[0m         \u001b[38;5;124m\"\u001b[39m\u001b[38;5;124myou can use builtins\u001b[39m\u001b[38;5;124m'\u001b[39m\u001b[38;5;124m open.\u001b[39m\u001b[38;5;124m\"\u001b[39m\n\u001b[0;32m    322\u001b[0m     )\n\u001b[1;32m--> 324\u001b[0m \u001b[38;5;28;01mreturn\u001b[39;00m io_open(file, \u001b[38;5;241m*\u001b[39margs, \u001b[38;5;241m*\u001b[39m\u001b[38;5;241m*\u001b[39mkwargs)\n",
      "\u001b[1;31mFileExistsError\u001b[0m: [Errno 17] File exists: 'new.txt'"
     ]
    }
   ],
   "source": [
    "fp=open(\"new.txt\",\"x\")\n",
    "fp.close()"
   ]
  },
  {
   "cell_type": "markdown",
   "metadata": {},
   "source": [
    "### 03) WAP to read first 5 lines from the text file."
   ]
  },
  {
   "cell_type": "code",
   "execution_count": 52,
   "metadata": {},
   "outputs": [
    {
     "name": "stdout",
     "output_type": "stream",
     "text": [
      "['DRASHTI RUPARELIA', 'dra', 'sht', 'i', 'rupare lia']\n"
     ]
    }
   ],
   "source": [
    "fp=open(\"file1.txt\",\"r\")\n",
    "print([fp.readline().strip() for i in range(1,6)])\n",
    "fp.close()"
   ]
  },
  {
   "cell_type": "markdown",
   "metadata": {},
   "source": [
    "### 04) WAP to find the longest word(s) in a file"
   ]
  },
  {
   "cell_type": "code",
   "execution_count": 58,
   "metadata": {},
   "outputs": [
    {
     "name": "stdout",
     "output_type": "stream",
     "text": [
      "['DRASHTI', 'RUPARELIA', 'dra', 'sht', 'i', 'rupare', 'lia', 'drash', 'ti']\n",
      "[7, 9, 3, 3, 1, 6, 3, 5, 2]\n",
      "['RUPARELIA']\n"
     ]
    }
   ],
   "source": [
    "fp=open(\"file1.txt\",\"r\")\n",
    "wl=fp.read().split()\n",
    "print(wl)\n",
    "w_len=list(map(len,wl))\n",
    "print(w_len)\n",
    "max_len=max(w_len)\n",
    "ans=[i for i in wl if len(i)==max_len]\n",
    "print(ans)"
   ]
  },
  {
   "cell_type": "markdown",
   "metadata": {},
   "source": [
    "### 05) WAP to count the no. of lines, words and characters in a given text file."
   ]
  },
  {
   "cell_type": "code",
   "execution_count": 82,
   "metadata": {},
   "outputs": [
    {
     "name": "stdout",
     "output_type": "stream",
     "text": [
      "number of words: 9\n",
      "number of lines: 6\n",
      "number of character: 39\n"
     ]
    }
   ],
   "source": [
    "fp=open(\"file1.txt\",\"r\")\n",
    "wl=fp.read().split()\n",
    "print(\"number of words:\",len(wl))\n",
    "fp.seek(0,0)\n",
    "line=fp.readlines()\n",
    "print(\"number of lines:\",len(line))\n",
    "w_len=list(map(len,wl))\n",
    "print(\"number of character:\",sum(w_len))\n",
    "fp.close()"
   ]
  },
  {
   "cell_type": "markdown",
   "metadata": {},
   "source": [
    "### 06) WAP to copy the content of a file to the another file."
   ]
  },
  {
   "cell_type": "code",
   "execution_count": 86,
   "metadata": {},
   "outputs": [],
   "source": [
    "fp=open(\"file1.txt\",\"r\")\n",
    "l1=fp.readlines()\n",
    "fp1=open(\"file2.txt\",\"w\")\n",
    "fp1.writelines(l1)\n",
    "fp1.close()\n",
    "fp.close()"
   ]
  },
  {
   "cell_type": "markdown",
   "metadata": {},
   "source": [
    "### 07) WAP to find the size of the text file. "
   ]
  },
  {
   "cell_type": "code",
   "execution_count": 88,
   "metadata": {},
   "outputs": [
    {
     "name": "stdout",
     "output_type": "stream",
     "text": [
      "size of the text file: 47\n"
     ]
    }
   ],
   "source": [
    "fp=open(\"file1.txt\")\n",
    "print(\"size of the text file:\",fp.seek(0,2))\n",
    "fp.close()"
   ]
  },
  {
   "cell_type": "markdown",
   "metadata": {},
   "source": [
    "### 08) WAP to create an UDF named frequency to count occurances of the specific word in a given text file."
   ]
  },
  {
   "cell_type": "code",
   "execution_count": null,
   "metadata": {},
   "outputs": [],
   "source": [
    "def frequency \n",
    "word=input(\"enter the word\")\n",
    "wl=fp.read().split()\n",
    "return wl.count(word)\n",
    "fp=open(\"file\")\n",
    "print(fp)"
   ]
  },
  {
   "cell_type": "markdown",
   "metadata": {},
   "source": [
    "### 09) WAP to get the score of five subjects from the user, store them in a file. Fetch those marks and find the highest score."
   ]
  },
  {
   "cell_type": "code",
   "execution_count": 118,
   "metadata": {},
   "outputs": [
    {
     "name": "stdin",
     "output_type": "stream",
     "text": [
      "enter 5 subjects marks space separated: 10 20 30\n"
     ]
    },
    {
     "name": "stdout",
     "output_type": "stream",
     "text": [
      "max score is: 30\n",
      "10\n",
      "20\n",
      "30\n",
      "\n"
     ]
    }
   ],
   "source": [
    "marks=input(\"enter 5 subjects marks space separated:\").split()\n",
    "print(\"max score is:\",max(marks))\n",
    "marks=[i+'\\n' for i in marks]\n",
    "fp=open(\"file3.txt\",\"w+\")\n",
    "fp.writelines(marks)\n",
    "fp.seek(0,0)\n",
    "print(fp.read())\n",
    "fp.close()"
   ]
  },
  {
   "cell_type": "markdown",
   "metadata": {},
   "source": [
    "### 10) WAP to write first 100 prime numbers to a file named primenumbers.txt \n",
    "(Note: each number should be in new line)"
   ]
  },
  {
   "cell_type": "code",
   "execution_count": 114,
   "metadata": {},
   "outputs": [
    {
     "name": "stdout",
     "output_type": "stream",
     "text": [
      "['2\\n', '3\\n', '5\\n', '7\\n', '11\\n', '13\\n', '17\\n', '19\\n', '23\\n', '29\\n', '31\\n', '37\\n', '41\\n', '43\\n', '47\\n', '53\\n', '59\\n', '61\\n', '67\\n', '71\\n', '73\\n', '79\\n', '83\\n', '89\\n', '97\\n']\n"
     ]
    }
   ],
   "source": [
    "fp=open(\"primenumber.txt\",\"w\")\n",
    "l1=[]\n",
    "for i in range(1,100):\n",
    "    count=0\n",
    "    for j in range(1,i+1):\n",
    "        if i%j==0:\n",
    "          count+=1\n",
    "    if count==2:\n",
    "        l1.append(i)\n",
    "\n",
    "\n",
    "l1=[str(i)+'\\n' for i in l1]\n",
    "print(l1)\n",
    "fp.writelines(l1)\n",
    "fp.close()"
   ]
  },
  {
   "cell_type": "markdown",
   "metadata": {},
   "source": [
    "### 11) WAP to merge two files and write it in a new file."
   ]
  },
  {
   "cell_type": "code",
   "execution_count": 20,
   "metadata": {},
   "outputs": [],
   "source": [
    "fp1=open(\"file3.txt\",\"r+\")\n",
    "\n",
    "fp2=open(\"primenumber.txt\",\"r+\")\n",
    "fp3=open(\"new1.txt\",\"w\")\n",
    "data=fp1.read()+'\\n'+fp2.read()\n",
    "\n",
    "fp3.write(data)\n",
    "fp1.close()\n",
    "fp2.close()\n",
    "fp3.close()"
   ]
  },
  {
   "cell_type": "markdown",
   "metadata": {},
   "source": [
    "### 12) WAP to replace word1 by word2 of a text file. Write the updated data to new file."
   ]
  },
  {
   "cell_type": "code",
   "execution_count": 3,
   "metadata": {},
   "outputs": [
    {
     "name": "stdout",
     "output_type": "stream",
     "text": [
      "DRASHTI RUPARELIA\n",
      "sht\n",
      "sht\n",
      "i\n",
      "rupare lia\n",
      "shtsh ti\n"
     ]
    }
   ],
   "source": [
    "first=\"dra\"\n",
    "second=\"sht\"\n",
    "fp=open(\"file1.txt\",\"r+\")\n",
    "data=fp.read()\n",
    "data = data.replace(first,second)\n",
    "print(data)\n",
    "fp.close()"
   ]
  },
  {
   "cell_type": "markdown",
   "metadata": {},
   "source": [
    "### 13) Demonstrate tell() and seek() for all the cases(seek from beginning-end-current position) taking a suitable example of your choice."
   ]
  },
  {
   "cell_type": "code",
   "execution_count": 64,
   "metadata": {},
   "outputs": [
    {
     "name": "stdout",
     "output_type": "stream",
     "text": [
      "file pointer initially is at:  0\n",
      "after reading 3 character filepointer is at: 3\n",
      "the last pointer is at: 47\n",
      "the seeking pointer is at beginning: 1\n",
      "the seeking pointer is at current position: 4\n",
      "the seeking pointer is at end: 47\n"
     ]
    }
   ],
   "source": [
    "fp=open(\"file1.txt\",\"r\")\n",
    "print(\"file pointer initially is at: \",fp.tell())\n",
    "fp.read(3)\n",
    "print(\"after reading 3 character filepointer is at:\",fp.tell())\n",
    "fp.read()\n",
    "print(\"the last pointer is at:\",fp.tell())\n",
    "print(\"the seeking pointer is at beginning:\",fp.seek(1,0))\n",
    "fp.read(3)\n",
    "print(\"the seeking pointer is at current position:\",fp.seek(0,1))\n",
    "print(\"the seeking pointer is at end:\",fp.seek(0,2))\n",
    "fp.close()"
   ]
  }
 ],
 "metadata": {
  "kernelspec": {
   "display_name": "Python 3 (ipykernel)",
   "language": "python",
   "name": "python3"
  },
  "language_info": {
   "codemirror_mode": {
    "name": "ipython",
    "version": 3
   },
   "file_extension": ".py",
   "mimetype": "text/x-python",
   "name": "python",
   "nbconvert_exporter": "python",
   "pygments_lexer": "ipython3",
   "version": "3.12.7"
  }
 },
 "nbformat": 4,
 "nbformat_minor": 4
}
