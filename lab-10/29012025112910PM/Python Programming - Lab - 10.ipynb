{
 "cells": [
  {
   "cell_type": "markdown",
   "metadata": {},
   "source": [
    "<a href='https://www.darshan.ac.in/'> <img src='https://www.darshan.ac.in/Content/media/DU_Logo.svg' width=\"250\" height=\"300\"/></a>\n",
    "<pre>\n",
    "<center><b><h1>Python Programming - 2301CS404</b></center>\n",
    "<center><b><h1>Lab - 10</b></center>    \n",
    "<pre>"
   ]
  },
  {
   "cell_type": "markdown",
   "metadata": {},
   "source": [
    "# Exception Handling"
   ]
  },
  {
   "cell_type": "markdown",
   "metadata": {},
   "source": [
    "### 01) WAP to handle following exceptions:\n",
    "1. ZeroDivisionError\n",
    "2. ValueError\n",
    "3. TypeError\n",
    "#### Note: handle them using separate except blocks and also using single except block too."
   ]
  },
  {
   "cell_type": "code",
   "execution_count": 3,
   "metadata": {},
   "outputs": [
    {
     "name": "stdin",
     "output_type": "stream",
     "text": [
      "enter the first number jnjn\n"
     ]
    },
    {
     "name": "stdout",
     "output_type": "stream",
     "text": [
      "invalid literal for int() with base 10: 'jnjn'\n"
     ]
    }
   ],
   "source": [
    "try:\n",
    "    a=int(input(\"enter the first number\"))\n",
    "    b=int(input(\"enter the second number\")) \n",
    "    #for value error remove int from starting because value error occures when one is int and \n",
    "    #other is string and there is a mathematical operand in betwen\n",
    "    c=a//b\n",
    "except ZeroDivisionError as msg:\n",
    "    print(msg)\n",
    "except ValueError as msg:\n",
    "    print(msg)\n",
    "except TypeError as msg:\n",
    "    print(msg)"
   ]
  },
  {
   "cell_type": "markdown",
   "metadata": {},
   "source": [
    "### 02)  WAP to handle following exceptions:\n",
    "1. IndexError\n",
    "2. KeyError"
   ]
  },
  {
   "cell_type": "code",
   "execution_count": 17,
   "metadata": {},
   "outputs": [
    {
     "name": "stdout",
     "output_type": "stream",
     "text": [
      "IndexError:list index out of range\n",
      "KeyError:'Micheal'\n"
     ]
    }
   ],
   "source": [
    "#index error\n",
    "l1=[1,2,3,4]\n",
    "try:\n",
    "    print(l1[4])\n",
    "except IndexError as msg:\n",
    "    print(type(msg).__name__+ \":\" +str(msg))\n",
    "\n",
    "#key error\n",
    "ages = {'Jim': 30, 'Pam': 28, 'Kevin': 33}\n",
    "try:\n",
    "    print(ages['Micheal']) \n",
    "except KeyError as msg:\n",
    "    print(type(msg).__name__+ \":\" +str(msg))"
   ]
  },
  {
   "cell_type": "markdown",
   "metadata": {},
   "source": [
    "### 03) WAP to handle following exceptions:\n",
    "1. FileNotFoundError\n",
    "2. ModuleNotFoundError"
   ]
  },
  {
   "cell_type": "code",
   "execution_count": 23,
   "metadata": {},
   "outputs": [
    {
     "name": "stdout",
     "output_type": "stream",
     "text": [
      "FileNotFoundError:[Errno 2] No such file or directory: 'abc.txt'\n",
      "The module is not installed\n"
     ]
    }
   ],
   "source": [
    "#filenotFound error\n",
    "try:\n",
    "    fp=open(\"abc.txt\",\"r\")\n",
    "except Exception as msg:\n",
    "    print(type(msg).__name__+ \":\" +str(msg))\n",
    "else:\n",
    "    print(fp.read())\n",
    "    fp.close()\n",
    "    \n",
    "#ModuleNotFound\n",
    "try:\n",
    "    import drashti\n",
    "except ModuleNotFoundError:\n",
    "    print(\"The module is not installed\")\n",
    "else:\n",
    "    # Code to run if the module  is successfully imported\n",
    "    print(\" Module is installed\")"
   ]
  },
  {
   "cell_type": "markdown",
   "metadata": {},
   "source": [
    "### 04) WAP that catches all type of exceptions in a single except block."
   ]
  },
  {
   "cell_type": "code",
   "execution_count": 29,
   "metadata": {},
   "outputs": [
    {
     "name": "stdin",
     "output_type": "stream",
     "text": [
      "enter the first number 10\n",
      "enter the second number 0\n"
     ]
    },
    {
     "name": "stdout",
     "output_type": "stream",
     "text": [
      "ZeroDivisionError:integer division or modulo by zero\n"
     ]
    }
   ],
   "source": [
    "try:\n",
    "    a=int(input(\"enter the first number\"))\n",
    "    b=int(input(\"enter the second number\"))\n",
    "    c=a//b\n",
    "except Exception as msg:\n",
    "    print(type(msg).__name__+ \":\" +str(msg))\n",
    "else:\n",
    "    print(c)"
   ]
  },
  {
   "cell_type": "markdown",
   "metadata": {},
   "source": [
    "### 05) WAP to demonstrate else  and finally block."
   ]
  },
  {
   "cell_type": "code",
   "execution_count": 33,
   "metadata": {},
   "outputs": [
    {
     "name": "stdin",
     "output_type": "stream",
     "text": [
      "enter the first number 10\n",
      "enter the second number 0\n"
     ]
    },
    {
     "name": "stdout",
     "output_type": "stream",
     "text": [
      "ZeroDivisionError:integer division or modulo by zero\n",
      "hello finally\n"
     ]
    }
   ],
   "source": [
    "try:\n",
    "    a=int(input(\"enter the first number\"))\n",
    "    b=int(input(\"enter the second number\"))\n",
    "    c=a//b\n",
    "except Exception as msg:\n",
    "    print(type(msg).__name__+ \":\" +str(msg))\n",
    "else:\n",
    "    #exception ma jase to else execute nai thai pan finally thase pan exception ma nai jay to else ne finally bey print thase\n",
    "    print(c)\n",
    "    print(\"hello else\")\n",
    "finally:\n",
    "    print(\"hello finally\")"
   ]
  },
  {
   "cell_type": "markdown",
   "metadata": {},
   "source": [
    "### 06) Create a short program that prompts the user for a list of grades separated by commas. \n",
    "### Split the string into individual grades and use a list comprehension to convert each string to an integer. \n",
    "### You should use a try statement to inform the user when the values they entered cannot be converted."
   ]
  },
  {
   "cell_type": "code",
   "execution_count": 73,
   "metadata": {},
   "outputs": [
    {
     "name": "stdin",
     "output_type": "stream",
     "text": [
      "enter the list of grades separated by comma:  a,b,c\n"
     ]
    },
    {
     "name": "stdout",
     "output_type": "stream",
     "text": [
      "ValueError:invalid literal for int() with base 10: 'a'\n",
      "cannot convert string to int\n"
     ]
    }
   ],
   "source": [
    "l1=input(\"enter the list of grades separated by comma: \").split(',')\n",
    "try:\n",
    "    li=[int(i) for i in l1]\n",
    "    print(li)\n",
    "except Exception as msg:\n",
    "    print(type(msg).__name__+ \":\" +str(msg))\n",
    "    print(\"cannot convert string to int\")"
   ]
  },
  {
   "cell_type": "markdown",
   "metadata": {},
   "source": [
    "### 07) WAP to create an udf divide(a,b) that handles ZeroDivisionError."
   ]
  },
  {
   "cell_type": "code",
   "execution_count": 65,
   "metadata": {},
   "outputs": [
    {
     "name": "stdin",
     "output_type": "stream",
     "text": [
      "enter the first number 10\n",
      "enter the second number 0\n"
     ]
    },
    {
     "name": "stdout",
     "output_type": "stream",
     "text": [
      "ZeroDivisionError:integer division or modulo by zero\n"
     ]
    }
   ],
   "source": [
    "def divide(a,b):\n",
    "    return a//b\n",
    "try:\n",
    "    a=int(input(\"enter the first number\"))\n",
    "    b=int(input(\"enter the second number\"))\n",
    "    divide(a,b)\n",
    "except ZeroDivisionError as msg:\n",
    "    print(type(msg).__name__+ \":\" +str(msg))"
   ]
  },
  {
   "cell_type": "markdown",
   "metadata": {},
   "source": [
    "### 08) WAP that gets an age of a person form the user and raises ValueError with error message: \"Enter Valid Age\" :\n",
    "#### If the age is less than 18. \n",
    "#### otherwise print the age."
   ]
  },
  {
   "cell_type": "code",
   "execution_count": 67,
   "metadata": {},
   "outputs": [
    {
     "name": "stdin",
     "output_type": "stream",
     "text": [
      "enter the age: 4\n"
     ]
    },
    {
     "name": "stdout",
     "output_type": "stream",
     "text": [
      "enter the valid age\n"
     ]
    }
   ],
   "source": [
    "try:\n",
    "    age=int(input(\"enter the age:\"))\n",
    "    if age<18:\n",
    "        raise ValueError(\"invalid age\")\n",
    "except ValueError:\n",
    "    print(\"enter the valid age\")"
   ]
  },
  {
   "cell_type": "markdown",
   "metadata": {},
   "source": [
    "### 09) WAP to raise your custom Exception named InvalidUsernameError with the error message : \"Username must be between 5 and 15 characters long\":\n",
    "#### if the given name is having characters less than 5 or greater than 15.\n",
    "#### otherwise print the given username."
   ]
  },
  {
   "cell_type": "code",
   "execution_count": 69,
   "metadata": {},
   "outputs": [
    {
     "name": "stdin",
     "output_type": "stream",
     "text": [
      "enter the username 4\n"
     ]
    },
    {
     "name": "stdout",
     "output_type": "stream",
     "text": [
      "InvalidUsernameError:enter the vallid username\n"
     ]
    }
   ],
   "source": [
    "class InvalidUsernameError(Exception):\n",
    "    def __init__(self,msg):\n",
    "        self.msg=msg\n",
    "try:\n",
    "    uname=input(\"enter the username\")\n",
    "    if len(uname)<5 or len(uname)>15:\n",
    "        raise InvalidUsernameError(\"enter the valid username\")\n",
    "except InvalidUsernameError as msg:\n",
    "  print(type(msg).__name__+ \":\" +str(msg))"
   ]
  },
  {
   "cell_type": "markdown",
   "metadata": {},
   "source": [
    "### 10) WAP to raise your custom Exception named NegativeNumberError with the error message : \"Cannot calculate the square root of a negative number\" :\n",
    "#### if the given number is negative.\n",
    "#### otherwise print the square root of the given number."
   ]
  },
  {
   "cell_type": "code",
   "execution_count": 71,
   "metadata": {},
   "outputs": [
    {
     "name": "stdin",
     "output_type": "stream",
     "text": [
      "enter the num: -1\n"
     ]
    },
    {
     "name": "stdout",
     "output_type": "stream",
     "text": [
      "NegativeNumberError:cannot calculate the square root of negative number\n"
     ]
    }
   ],
   "source": [
    "class NegativeNumberError(Exception):\n",
    "    def __init__(self,msg):\n",
    "        self.msg=msg\n",
    "try:\n",
    "    num=int(input(\"enter the num:\"))\n",
    "    if num<0:\n",
    "        raise NegativeNumberError(\"cannot calculate the square root of negative number\")\n",
    "    else:\n",
    "        print(num**(1/2))\n",
    "except NegativeNumberError as msg:\n",
    "    print(type(msg).__name__+ \":\" +str(msg))"
   ]
  }
 ],
 "metadata": {
  "kernelspec": {
   "display_name": "Python 3 (ipykernel)",
   "language": "python",
   "name": "python3"
  },
  "language_info": {
   "codemirror_mode": {
    "name": "ipython",
    "version": 3
   },
   "file_extension": ".py",
   "mimetype": "text/x-python",
   "name": "python",
   "nbconvert_exporter": "python",
   "pygments_lexer": "ipython3",
   "version": "3.12.7"
  }
 },
 "nbformat": 4,
 "nbformat_minor": 4
}
